{
 "cells": [
  {
   "cell_type": "markdown",
   "id": "f6ec8bb7-39d8-4a00-914f-a9ffca8fecb2",
   "metadata": {},
   "source": [
    "# Wikipedia scrape"
   ]
  },
  {
   "cell_type": "code",
   "execution_count": 4,
   "id": "b459d571-06b3-4f45-a4b0-80ab24f4c37a",
   "metadata": {},
   "outputs": [
    {
     "name": "stdout",
     "output_type": "stream",
     "text": [
      "anyio==3.6.1\n",
      "argon2-cffi==21.3.0\n",
      "argon2-cffi-bindings==21.2.0\n",
      "asttokens==2.0.5\n",
      "attrs==21.4.0\n",
      "Babel==2.10.1\n",
      "backcall==0.2.0\n",
      "beautifulsoup4==4.11.1\n",
      "bleach==5.0.0\n",
      "certifi==2022.5.18.1\n",
      "cffi==1.15.0\n",
      "charset-normalizer==2.0.12\n",
      "cycler==0.11.0\n",
      "debugpy==1.6.0\n",
      "decorator==5.1.1\n",
      "defusedxml==0.7.1\n",
      "entrypoints==0.4\n",
      "executing==0.8.3\n",
      "fastjsonschema==2.15.3\n",
      "fonttools==4.33.3\n",
      "idna==3.3\n",
      "imageio==2.19.3\n",
      "importlib-metadata==4.11.4\n",
      "importlib-resources==5.7.1\n",
      "ipykernel==6.13.1\n",
      "ipython==8.4.0\n",
      "ipython-genutils==0.2.0\n",
      "jedi==0.18.1\n",
      "Jinja2==3.1.2\n",
      "joblib==1.1.0\n",
      "json5==0.9.8\n",
      "jsonschema==4.6.0\n",
      "jupyter-client==7.3.4\n",
      "jupyter-core==4.10.0\n",
      "jupyter-server==1.17.1\n",
      "jupyterlab==3.4.3\n",
      "jupyterlab-pygments==0.2.2\n",
      "jupyterlab-server==2.14.0\n",
      "kiwisolver==1.4.2\n",
      "lime==0.2.0.1\n",
      "MarkupSafe==2.1.1\n",
      "matplotlib==3.5.2\n",
      "matplotlib-inline==0.1.3\n",
      "mistune==0.8.4\n",
      "nbclassic==0.3.7\n",
      "nbclient==0.6.4\n",
      "nbconvert==6.5.0\n",
      "nbformat==5.4.0\n",
      "nest-asyncio==1.5.5\n",
      "networkx==2.8.3\n",
      "notebook==6.4.12\n",
      "notebook-shim==0.1.0\n",
      "numpy==1.22.4\n",
      "packaging==21.3\n",
      "pandas==1.4.2\n",
      "pandocfilters==1.5.0\n",
      "parso==0.8.3\n",
      "pexpect==4.8.0\n",
      "pickleshare==0.7.5\n",
      "Pillow==9.1.1\n",
      "prometheus-client==0.14.1\n",
      "prompt-toolkit==3.0.29\n",
      "psutil==5.9.1\n",
      "ptyprocess==0.7.0\n",
      "pure-eval==0.2.2\n",
      "pycparser==2.21\n",
      "Pygments==2.12.0\n",
      "pyparsing==3.0.9\n",
      "pyrsistent==0.18.1\n",
      "python-dateutil==2.8.2\n",
      "pytz==2022.1\n",
      "PyWavelets==1.3.0\n",
      "pywikibot==7.3.0\n",
      "pyzmq==23.1.0\n",
      "regex==2022.6.2\n",
      "requests==2.28.0\n",
      "scikit-image==0.19.2\n",
      "scikit-learn==1.1.1\n",
      "scipy==1.8.1\n",
      "Send2Trash==1.8.0\n",
      "six==1.16.0\n",
      "sklearn==0.0\n",
      "sniffio==1.2.0\n",
      "soupsieve==2.3.2.post1\n",
      "stack-data==0.2.0\n",
      "terminado==0.15.0\n",
      "threadpoolctl==3.1.0\n",
      "tifffile==2022.5.4\n",
      "tinycss2==1.1.1\n",
      "tornado==6.1\n",
      "tqdm==4.64.0\n",
      "traitlets==5.2.2.post1\n",
      "urllib3==1.26.9\n",
      "wcwidth==0.2.5\n",
      "webencodings==0.5.1\n",
      "websocket-client==1.3.2\n",
      "wikipedia==1.4.0\n",
      "wikitextparser==0.49.2\n",
      "zipp==3.8.0\n",
      "Note: you may need to restart the kernel to use updated packages.\n"
     ]
    }
   ],
   "source": [
    "pip freeze"
   ]
  },
  {
   "cell_type": "code",
   "execution_count": 3,
   "id": "cc6e0068-8c2b-4289-b05c-8525ce69d3e8",
   "metadata": {},
   "outputs": [],
   "source": [
    "import wikipedia\n",
    "import pywikibot as pw\n",
    "import pandas as pd\n",
    "\n",
    "from tqdm import tqdm"
   ]
  },
  {
   "cell_type": "code",
   "execution_count": 2,
   "id": "62ce3b25-d690-4fd8-bebd-c2cf8ae8e88a",
   "metadata": {},
   "outputs": [
    {
     "name": "stdout",
     "output_type": "stream",
     "text": [
      "\u001b[33mWARNING: Running pip as the 'root' user can result in broken permissions and conflicting behaviour with the system package manager. It is recommended to use a virtual environment instead: https://pip.pypa.io/warnings/venv\u001b[0m\u001b[33m\n",
      "\u001b[0m\u001b[33mWARNING: You are using pip version 22.0.4; however, version 22.1.2 is available.\n",
      "You should consider upgrading via the '/usr/local/bin/python -m pip install --upgrade pip' command.\u001b[0m\u001b[33m\n",
      "\u001b[0mNote: you may need to restart the kernel to use updated packages.\n"
     ]
    }
   ],
   "source": [
    "pip install wikitextparser>=0.47.5"
   ]
  },
  {
   "cell_type": "code",
   "execution_count": 2,
   "id": "1b4ce64b-3dd1-4e92-85ae-05f40880468a",
   "metadata": {},
   "outputs": [],
   "source": [
    "categories = {'Finance':['Finance', 'Valuation (finance)', 'Accounting'],\n",
    "              'Technology':['Software engineering','Machine learning','Data science','Computer security'],\n",
    "              'Life Science':['Biology', 'Biotechnology', 'Health sciences'],\n",
    "              'Business Administration':['Business','Management','Consulting', 'Office administration']}"
   ]
  },
  {
   "cell_type": "code",
   "execution_count": 3,
   "id": "68d3c11a-3ff0-4274-9b1b-e551d78c8b08",
   "metadata": {},
   "outputs": [
    {
     "data": {
      "text/plain": [
       "{'Business Administration': 0,\n",
       " 'Life Science': 1,\n",
       " 'Technology': 2,\n",
       " 'Finance': 3}"
      ]
     },
     "execution_count": 3,
     "metadata": {},
     "output_type": "execute_result"
    }
   ],
   "source": [
    "unique_categories = list(set(categories.keys()))\n",
    "label_map = {cat:i for i,cat in enumerate(unique_categories)}\n",
    "label_map"
   ]
  },
  {
   "cell_type": "code",
   "execution_count": 4,
   "id": "5a838731-40f1-47e7-8c27-7ab6767c30eb",
   "metadata": {},
   "outputs": [
    {
     "name": "stderr",
     "output_type": "stream",
     "text": [
      " 25%|████████████████████▊                                                              | 1/4 [02:29<07:28, 149.47s/it]WARNING: C:\\Users\\skarb\\Environments\\general\\lib\\site-packages\\wikipedia\\wikipedia.py:389: GuessedAtParserWarning: No parser was explicitly specified, so I'm using the best available HTML parser for this system (\"html.parser\"). This usually isn't a problem, but if you run this code on another system, or in a different virtual environment, it may use a different parser and behave differently.\n",
      "\n",
      "The code that caused this warning is on line 389 of the file C:\\Users\\skarb\\Environments\\general\\lib\\site-packages\\wikipedia\\wikipedia.py. To get rid of this warning, pass the additional argument 'features=\"html.parser\"' to the BeautifulSoup constructor.\n",
      "\n",
      "  lis = BeautifulSoup(html).find_all('li')\n",
      "\n",
      "100%|███████████████████████████████████████████████████████████████████████████████████| 4/4 [18:15<00:00, 273.86s/it]\n"
     ]
    }
   ],
   "source": [
    "all_text = {}\n",
    "site = pw.Site('en','wikipedia')\n",
    "for category in tqdm(categories.keys()):\n",
    "    all_text[category] = {}\n",
    "    for wiki_cat in categories[category]:\n",
    "        try:\n",
    "            cat = pw.Category(site,wiki_cat)\n",
    "        except:\n",
    "            print(f\"Couldn't get cat: {wiki_cat}\")\n",
    "            continue;\n",
    "        page_names = [x.title() for x in cat.articles()]\n",
    "        for page_name in page_names:\n",
    "            try:\n",
    "                summary = wikipedia.summary(page_name)\n",
    "            except:\n",
    "                summary = None\n",
    "            if summary:\n",
    "                all_text[category][page_name] = summary"
   ]
  },
  {
   "cell_type": "code",
   "execution_count": 5,
   "id": "ab1219cf-396c-45ad-a297-8ab0479d843a",
   "metadata": {},
   "outputs": [
    {
     "data": {
      "text/plain": [
       "4"
      ]
     },
     "execution_count": 5,
     "metadata": {},
     "output_type": "execute_result"
    }
   ],
   "source": [
    "len(all_text)"
   ]
  },
  {
   "cell_type": "code",
   "execution_count": 6,
   "id": "841abe37-1a47-4a04-992a-91b66e426c8c",
   "metadata": {},
   "outputs": [
    {
     "data": {
      "text/plain": [
       "dict_keys(['Finance', 'Technology', 'Life Science', 'Business Administration'])"
      ]
     },
     "execution_count": 6,
     "metadata": {},
     "output_type": "execute_result"
    }
   ],
   "source": [
    "all_text.keys()"
   ]
  },
  {
   "cell_type": "code",
   "execution_count": 7,
   "id": "27b927bc-3d35-4d6c-894f-87c3b425f27a",
   "metadata": {},
   "outputs": [],
   "source": [
    "labels = []\n",
    "cats = []\n",
    "pages = []\n",
    "txts = []\n",
    "for i,cat in enumerate(all_text.keys()):\n",
    "    for article in all_text[cat].keys():\n",
    "        labels.append(label_map[cat])\n",
    "        cats.append(cat)\n",
    "        pages.append(article)\n",
    "        txts.append(all_text[cat][article])\n",
    "df = pd.DataFrame({'category':cats,'page':pages,'text':txts,'label':labels})"
   ]
  },
  {
   "cell_type": "code",
   "execution_count": 8,
   "id": "d227373d-9dd4-49ef-a5fc-ff57abb62526",
   "metadata": {},
   "outputs": [
    {
     "data": {
      "text/html": [
       "<div>\n",
       "<style scoped>\n",
       "    .dataframe tbody tr th:only-of-type {\n",
       "        vertical-align: middle;\n",
       "    }\n",
       "\n",
       "    .dataframe tbody tr th {\n",
       "        vertical-align: top;\n",
       "    }\n",
       "\n",
       "    .dataframe thead th {\n",
       "        text-align: right;\n",
       "    }\n",
       "</style>\n",
       "<table border=\"1\" class=\"dataframe\">\n",
       "  <thead>\n",
       "    <tr style=\"text-align: right;\">\n",
       "      <th></th>\n",
       "      <th>category</th>\n",
       "      <th>page</th>\n",
       "      <th>text</th>\n",
       "      <th>label</th>\n",
       "    </tr>\n",
       "  </thead>\n",
       "  <tbody>\n",
       "    <tr>\n",
       "      <th>0</th>\n",
       "      <td>Finance</td>\n",
       "      <td>Portal:Banks</td>\n",
       "      <td>The human back, also called the dorsum, is the...</td>\n",
       "      <td>3</td>\n",
       "    </tr>\n",
       "    <tr>\n",
       "      <th>1</th>\n",
       "      <td>Finance</td>\n",
       "      <td>Finance</td>\n",
       "      <td>Finance is the study of money and assets. It i...</td>\n",
       "      <td>3</td>\n",
       "    </tr>\n",
       "    <tr>\n",
       "      <th>2</th>\n",
       "      <td>Finance</td>\n",
       "      <td>Approved Publication Arrangement</td>\n",
       "      <td>With MiFID II directive being in force in Janu...</td>\n",
       "      <td>3</td>\n",
       "    </tr>\n",
       "    <tr>\n",
       "      <th>3</th>\n",
       "      <td>Finance</td>\n",
       "      <td>Asset</td>\n",
       "      <td>In financial accounting, an asset is any resou...</td>\n",
       "      <td>3</td>\n",
       "    </tr>\n",
       "    <tr>\n",
       "      <th>4</th>\n",
       "      <td>Finance</td>\n",
       "      <td>Austerity</td>\n",
       "      <td>Austerity is a set of political-economic polic...</td>\n",
       "      <td>3</td>\n",
       "    </tr>\n",
       "  </tbody>\n",
       "</table>\n",
       "</div>"
      ],
      "text/plain": [
       "  category                              page  \\\n",
       "0  Finance                      Portal:Banks   \n",
       "1  Finance                           Finance   \n",
       "2  Finance  Approved Publication Arrangement   \n",
       "3  Finance                             Asset   \n",
       "4  Finance                         Austerity   \n",
       "\n",
       "                                                text  label  \n",
       "0  The human back, also called the dorsum, is the...      3  \n",
       "1  Finance is the study of money and assets. It i...      3  \n",
       "2  With MiFID II directive being in force in Janu...      3  \n",
       "3  In financial accounting, an asset is any resou...      3  \n",
       "4  Austerity is a set of political-economic polic...      3  "
      ]
     },
     "execution_count": 8,
     "metadata": {},
     "output_type": "execute_result"
    }
   ],
   "source": [
    "df.head()"
   ]
  },
  {
   "cell_type": "code",
   "execution_count": 62,
   "id": "c48f43f9-a26b-4486-8a6b-4e53e98ba5ee",
   "metadata": {},
   "outputs": [],
   "source": [
    "row1 = df[df['label']==0].iloc[54]\n",
    "row2 = df[df['label']==1].iloc[1]\n",
    "row3 = df[df['label']==2].iloc[15]\n",
    "row4 = df[df['label']==3].iloc[3]\n",
    "\n",
    "sample = pd.DataFrame([row1,row2,row3,row4])"
   ]
  },
  {
   "cell_type": "code",
   "execution_count": 63,
   "id": "97c51486-a3ac-40a4-8131-c6566ee86b70",
   "metadata": {},
   "outputs": [
    {
     "data": {
      "text/html": [
       "<div>\n",
       "<style scoped>\n",
       "    .dataframe tbody tr th:only-of-type {\n",
       "        vertical-align: middle;\n",
       "    }\n",
       "\n",
       "    .dataframe tbody tr th {\n",
       "        vertical-align: top;\n",
       "    }\n",
       "\n",
       "    .dataframe thead th {\n",
       "        text-align: right;\n",
       "    }\n",
       "</style>\n",
       "<table border=\"1\" class=\"dataframe\">\n",
       "  <thead>\n",
       "    <tr style=\"text-align: right;\">\n",
       "      <th></th>\n",
       "      <th>category</th>\n",
       "      <th>page</th>\n",
       "      <th>text</th>\n",
       "      <th>label</th>\n",
       "    </tr>\n",
       "  </thead>\n",
       "  <tbody>\n",
       "    <tr>\n",
       "      <th>1226</th>\n",
       "      <td>Business Administration</td>\n",
       "      <td>Hands-on management</td>\n",
       "      <td>Hands-on management is a particular style of m...</td>\n",
       "      <td>0</td>\n",
       "    </tr>\n",
       "    <tr>\n",
       "      <th>638</th>\n",
       "      <td>Life Science</td>\n",
       "      <td>Biology</td>\n",
       "      <td>Geology (from Ancient Greek  γῆ (gê) 'earth', ...</td>\n",
       "      <td>1</td>\n",
       "    </tr>\n",
       "    <tr>\n",
       "      <th>190</th>\n",
       "      <td>Technology</td>\n",
       "      <td>Site reliability engineering</td>\n",
       "      <td>Site reliability engineering (SRE) is a set of...</td>\n",
       "      <td>2</td>\n",
       "    </tr>\n",
       "    <tr>\n",
       "      <th>3</th>\n",
       "      <td>Finance</td>\n",
       "      <td>Asset</td>\n",
       "      <td>In financial accounting, an asset is any resou...</td>\n",
       "      <td>3</td>\n",
       "    </tr>\n",
       "  </tbody>\n",
       "</table>\n",
       "</div>"
      ],
      "text/plain": [
       "                     category                          page  \\\n",
       "1226  Business Administration           Hands-on management   \n",
       "638              Life Science                       Biology   \n",
       "190                Technology  Site reliability engineering   \n",
       "3                     Finance                         Asset   \n",
       "\n",
       "                                                   text  label  \n",
       "1226  Hands-on management is a particular style of m...      0  \n",
       "638   Geology (from Ancient Greek  γῆ (gê) 'earth', ...      1  \n",
       "190   Site reliability engineering (SRE) is a set of...      2  \n",
       "3     In financial accounting, an asset is any resou...      3  "
      ]
     },
     "execution_count": 63,
     "metadata": {},
     "output_type": "execute_result"
    }
   ],
   "source": [
    "sample"
   ]
  },
  {
   "cell_type": "code",
   "execution_count": null,
   "id": "5098ea53-df87-48c0-90ef-afb7ae1b971e",
   "metadata": {},
   "outputs": [],
   "source": []
  },
  {
   "cell_type": "code",
   "execution_count": 9,
   "id": "92e520b9-180f-408f-87f9-e52b350c999d",
   "metadata": {},
   "outputs": [
    {
     "data": {
      "text/plain": [
       "(1313, 4)"
      ]
     },
     "execution_count": 9,
     "metadata": {},
     "output_type": "execute_result"
    }
   ],
   "source": [
    "df.shape"
   ]
  },
  {
   "cell_type": "code",
   "execution_count": 10,
   "id": "fe5487bc-5dc0-4ecd-8feb-e925aacfa137",
   "metadata": {},
   "outputs": [],
   "source": [
    "df.to_csv(\"./wikipedia_data.csv\",index=False)"
   ]
  },
  {
   "cell_type": "code",
   "execution_count": null,
   "id": "d4c8ea3a-94e9-4adb-b1f5-0200cac93ad1",
   "metadata": {},
   "outputs": [],
   "source": []
  }
 ],
 "metadata": {
  "kernelspec": {
   "display_name": "Python 3 (ipykernel)",
   "language": "python",
   "name": "python3"
  },
  "language_info": {
   "codemirror_mode": {
    "name": "ipython",
    "version": 3
   },
   "file_extension": ".py",
   "mimetype": "text/x-python",
   "name": "python",
   "nbconvert_exporter": "python",
   "pygments_lexer": "ipython3",
   "version": "3.8.13"
  }
 },
 "nbformat": 4,
 "nbformat_minor": 5
}
